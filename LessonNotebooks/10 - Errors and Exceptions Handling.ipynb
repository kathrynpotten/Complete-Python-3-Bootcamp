{
 "cells": [
  {
   "cell_type": "code",
   "execution_count": 6,
   "id": "f8853d3c",
   "metadata": {},
   "outputs": [
    {
     "name": "stdout",
     "output_type": "stream",
     "text": [
      "Choose a number: three\n",
      "It looks like you aren't adding correctly\n"
     ]
    }
   ],
   "source": [
    "try:\n",
    "    #WANT TO ATTEMPT BUT MAY HAVE ERROR\n",
    "    user = input('Choose a number: ' )\n",
    "    result = 10 + int(user)\n",
    "except:\n",
    "    print(\"It looks like you aren't adding correctly\")\n",
    "else:\n",
    "    print(result)"
   ]
  },
  {
   "cell_type": "code",
   "execution_count": 9,
   "id": "1a095080",
   "metadata": {},
   "outputs": [
    {
     "name": "stdout",
     "output_type": "stream",
     "text": [
      "I always run\n"
     ]
    }
   ],
   "source": [
    "try:\n",
    "    f = open('testfile', 'w')\n",
    "    f.write(\"Write a test line\")\n",
    "except TypeError:\n",
    "    print(\"There was a type error!\")\n",
    "except OSError:\n",
    "    print(\"You have an OS error!\")\n",
    "finally:\n",
    "    print(\"I always run\")"
   ]
  },
  {
   "cell_type": "code",
   "execution_count": 10,
   "id": "7d3e87b2",
   "metadata": {},
   "outputs": [
    {
     "name": "stdout",
     "output_type": "stream",
     "text": [
      "You have an OS error!\n",
      "I always run\n"
     ]
    }
   ],
   "source": [
    "try:\n",
    "    f = open('testfile', 'r')\n",
    "    f.write(\"Write a test line\")\n",
    "except TypeError:\n",
    "    print(\"There was a type error!\")\n",
    "except OSError:\n",
    "    print(\"You have an OS error!\")\n",
    "finally:\n",
    "    print(\"I always run\")"
   ]
  },
  {
   "cell_type": "code",
   "execution_count": 11,
   "id": "610cd11f",
   "metadata": {},
   "outputs": [],
   "source": [
    "def ask_for_int():\n",
    "    try:\n",
    "            result = int(input(\"Please provide a number: \"))\n",
    "    except:\n",
    "        print(\"That is not a number\")\n",
    "    finally:\n",
    "        print(\"End of try/except/finally\")"
   ]
  },
  {
   "cell_type": "code",
   "execution_count": 12,
   "id": "73f2f33e",
   "metadata": {},
   "outputs": [
    {
     "name": "stdout",
     "output_type": "stream",
     "text": [
      "Please provide a number: 3\n",
      "End of try/except/finally\n"
     ]
    }
   ],
   "source": [
    "ask_for_int()"
   ]
  },
  {
   "cell_type": "code",
   "execution_count": 13,
   "id": "f721d5da",
   "metadata": {},
   "outputs": [
    {
     "name": "stdout",
     "output_type": "stream",
     "text": [
      "Please provide a number: three\n",
      "That is not a number\n",
      "End of try/except/finally\n"
     ]
    }
   ],
   "source": [
    "ask_for_int()"
   ]
  },
  {
   "cell_type": "code",
   "execution_count": 18,
   "id": "552ef21d",
   "metadata": {},
   "outputs": [],
   "source": [
    "def ask_for_int_while():\n",
    "    while True:\n",
    "        try:\n",
    "            result = int(input(\"Please provide a number: \"))\n",
    "        except:\n",
    "            print(\"That is not a number!\")\n",
    "            continue\n",
    "        else:\n",
    "            print(\"Thank you!\")\n",
    "            print(result)\n",
    "            break\n",
    "        finally:\n",
    "            print(\"I'm going to ask you again!\")"
   ]
  },
  {
   "cell_type": "code",
   "execution_count": 16,
   "id": "780f2feb",
   "metadata": {},
   "outputs": [
    {
     "name": "stdout",
     "output_type": "stream",
     "text": [
      "Please provide a number: 20\n",
      "Thank you!\n",
      "20\n",
      "End of try/except/finally\n"
     ]
    }
   ],
   "source": [
    "ask_for_int_while()"
   ]
  },
  {
   "cell_type": "code",
   "execution_count": 19,
   "id": "debf990d",
   "metadata": {},
   "outputs": [
    {
     "name": "stdout",
     "output_type": "stream",
     "text": [
      "Please provide a number: twenty\n",
      "That is not a number!\n",
      "I'm going to ask you again!\n",
      "Please provide a number: q\n",
      "That is not a number!\n",
      "I'm going to ask you again!\n",
      "Please provide a number: hello!\n",
      "That is not a number!\n",
      "I'm going to ask you again!\n",
      "Please provide a number: 90\n",
      "Thank you!\n",
      "90\n",
      "I'm going to ask you again!\n"
     ]
    }
   ],
   "source": [
    "ask_for_int_while()"
   ]
  },
  {
   "cell_type": "code",
   "execution_count": null,
   "id": "abbbf4f9",
   "metadata": {},
   "outputs": [],
   "source": []
  }
 ],
 "metadata": {
  "kernelspec": {
   "display_name": "Python 3 (ipykernel)",
   "language": "python",
   "name": "python3"
  },
  "language_info": {
   "codemirror_mode": {
    "name": "ipython",
    "version": 3
   },
   "file_extension": ".py",
   "mimetype": "text/x-python",
   "name": "python",
   "nbconvert_exporter": "python",
   "pygments_lexer": "ipython3",
   "version": "3.10.9"
  }
 },
 "nbformat": 4,
 "nbformat_minor": 5
}
