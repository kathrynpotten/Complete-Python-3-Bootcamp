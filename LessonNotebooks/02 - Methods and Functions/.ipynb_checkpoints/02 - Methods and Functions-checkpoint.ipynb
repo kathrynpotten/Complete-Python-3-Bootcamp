{
 "cells": [
  {
   "cell_type": "code",
   "execution_count": 2,
   "id": "6b404cd9",
   "metadata": {},
   "outputs": [],
   "source": [
    "def say_hello(name='Default'):\n",
    "    print(f'hello {name}')"
   ]
  },
  {
   "cell_type": "code",
   "execution_count": 3,
   "id": "dcdc9e83",
   "metadata": {},
   "outputs": [
    {
     "name": "stdout",
     "output_type": "stream",
     "text": [
      "hello Jose\n"
     ]
    }
   ],
   "source": [
    "say_hello('Jose')"
   ]
  },
  {
   "cell_type": "code",
   "execution_count": 4,
   "id": "2e05de1b",
   "metadata": {},
   "outputs": [
    {
     "name": "stdout",
     "output_type": "stream",
     "text": [
      "hello Default\n"
     ]
    }
   ],
   "source": [
    "say_hello()"
   ]
  },
  {
   "cell_type": "code",
   "execution_count": 5,
   "id": "3bf01480",
   "metadata": {},
   "outputs": [],
   "source": [
    "def print_result(a,b):\n",
    "    print(a+b)"
   ]
  },
  {
   "cell_type": "code",
   "execution_count": 6,
   "id": "d13c003a",
   "metadata": {},
   "outputs": [],
   "source": [
    "def return_result(a,b):\n",
    "    return a+b"
   ]
  },
  {
   "cell_type": "code",
   "execution_count": 7,
   "id": "b9383a33",
   "metadata": {},
   "outputs": [
    {
     "name": "stdout",
     "output_type": "stream",
     "text": [
      "3\n"
     ]
    }
   ],
   "source": [
    "print_result(1,2)"
   ]
  },
  {
   "cell_type": "code",
   "execution_count": 8,
   "id": "4877c0b5",
   "metadata": {},
   "outputs": [],
   "source": [
    "result = return_result(1,2)"
   ]
  },
  {
   "cell_type": "code",
   "execution_count": 9,
   "id": "f48ac634",
   "metadata": {},
   "outputs": [
    {
     "data": {
      "text/plain": [
       "3"
      ]
     },
     "execution_count": 9,
     "metadata": {},
     "output_type": "execute_result"
    }
   ],
   "source": [
    "result"
   ]
  },
  {
   "cell_type": "code",
   "execution_count": 11,
   "id": "36433208",
   "metadata": {},
   "outputs": [
    {
     "name": "stdout",
     "output_type": "stream",
     "text": [
      "3\n"
     ]
    }
   ],
   "source": [
    "result = print_result(1,2)"
   ]
  },
  {
   "cell_type": "code",
   "execution_count": 13,
   "id": "1a9afb0d",
   "metadata": {},
   "outputs": [
    {
     "data": {
      "text/plain": [
       "NoneType"
      ]
     },
     "execution_count": 13,
     "metadata": {},
     "output_type": "execute_result"
    }
   ],
   "source": [
    "type(result)"
   ]
  },
  {
   "cell_type": "code",
   "execution_count": 14,
   "id": "6812f7f7",
   "metadata": {},
   "outputs": [],
   "source": [
    "def is_even(num):\n",
    "    return num%2 == 0"
   ]
  },
  {
   "cell_type": "code",
   "execution_count": 15,
   "id": "7040bcb5",
   "metadata": {},
   "outputs": [
    {
     "data": {
      "text/plain": [
       "True"
      ]
     },
     "execution_count": 15,
     "metadata": {},
     "output_type": "execute_result"
    }
   ],
   "source": [
    "is_even(6)"
   ]
  },
  {
   "cell_type": "code",
   "execution_count": 22,
   "id": "46659d7b",
   "metadata": {},
   "outputs": [],
   "source": [
    "#return true if any number in list is even\n",
    "def even_in_list(num_list):\n",
    "    for num in num_list:\n",
    "        if num%2 == 0:        \n",
    "            return True\n",
    "    else:\n",
    "        pass\n",
    "    return False"
   ]
  },
  {
   "cell_type": "code",
   "execution_count": 23,
   "id": "14d200d3",
   "metadata": {},
   "outputs": [
    {
     "data": {
      "text/plain": [
       "True"
      ]
     },
     "execution_count": 23,
     "metadata": {},
     "output_type": "execute_result"
    }
   ],
   "source": [
    "even_in_list([1,2,4,6])"
   ]
  },
  {
   "cell_type": "code",
   "execution_count": 25,
   "id": "bae3be78",
   "metadata": {},
   "outputs": [],
   "source": [
    "#return even numbers in list\n",
    "def evens_in_list(num_list):\n",
    "    even_nums = [num for num in num_list if num%2 == 0]\n",
    "    return even_nums\n"
   ]
  },
  {
   "cell_type": "code",
   "execution_count": 27,
   "id": "6da81195",
   "metadata": {},
   "outputs": [
    {
     "data": {
      "text/plain": [
       "[2, 4, 6]"
      ]
     },
     "execution_count": 27,
     "metadata": {},
     "output_type": "execute_result"
    }
   ],
   "source": [
    "evens_in_list([1,2,4,6])"
   ]
  },
  {
   "cell_type": "code",
   "execution_count": 29,
   "id": "04b190a6",
   "metadata": {},
   "outputs": [
    {
     "name": "stdout",
     "output_type": "stream",
     "text": [
      "('APPL', 200)\n",
      "('GOOG', 400)\n"
     ]
    }
   ],
   "source": [
    "stock_prices = [('APPL',200),('GOOG',400)]\n",
    "for item in stock_prices:\n",
    "    print(item)"
   ]
  },
  {
   "cell_type": "code",
   "execution_count": 30,
   "id": "26f25dcc",
   "metadata": {},
   "outputs": [
    {
     "name": "stdout",
     "output_type": "stream",
     "text": [
      "APPL 200\n",
      "GOOG 400\n"
     ]
    }
   ],
   "source": [
    "for ticker,price in stock_prices:\n",
    "    print(ticker,price)"
   ]
  },
  {
   "cell_type": "code",
   "execution_count": 34,
   "id": "2eddd960",
   "metadata": {},
   "outputs": [],
   "source": [
    "work_hours = [('Abby',100),('Bily',300),('Carol',800)]\n",
    "def employee_check(work_hours):\n",
    "    max_hours = 0\n",
    "    for employee, hours in work_hours:\n",
    "        if hours > max_hours:\n",
    "            employee_of_month = employee\n",
    "            max_hours = hours\n",
    "    return (employee_of_month,max_hours)"
   ]
  },
  {
   "cell_type": "code",
   "execution_count": 35,
   "id": "cb4f3dfd",
   "metadata": {},
   "outputs": [
    {
     "data": {
      "text/plain": [
       "('Carol', 800)"
      ]
     },
     "execution_count": 35,
     "metadata": {},
     "output_type": "execute_result"
    }
   ],
   "source": [
    "employee_check(work_hours)"
   ]
  },
  {
   "cell_type": "code",
   "execution_count": 40,
   "id": "f66d5d99",
   "metadata": {},
   "outputs": [],
   "source": [
    "cups_list = [0,1,0]\n",
    "from random import shuffle\n",
    "\n",
    "def shuffle_cups(cups_list):\n",
    "    shuffle(cups_list)\n",
    "    return cups_list"
   ]
  },
  {
   "cell_type": "code",
   "execution_count": 41,
   "id": "324a7ad8",
   "metadata": {},
   "outputs": [],
   "source": [
    "result = shuffle_cups(cups_list)"
   ]
  },
  {
   "cell_type": "code",
   "execution_count": 42,
   "id": "791aa381",
   "metadata": {},
   "outputs": [
    {
     "data": {
      "text/plain": [
       "[0, 0, 1]"
      ]
     },
     "execution_count": 42,
     "metadata": {},
     "output_type": "execute_result"
    }
   ],
   "source": [
    "result"
   ]
  },
  {
   "cell_type": "code",
   "execution_count": 48,
   "id": "9d694b8a",
   "metadata": {},
   "outputs": [],
   "source": [
    "def player_guess():\n",
    "    guess = ''\n",
    "    while guess not in ['0','1','2']:\n",
    "        guess = input('Where is the ball? 0,1, or 2')\n",
    "    return int(guess)\n",
    "\n",
    "def cups_game(start_list,turns,guess):\n",
    "    shuffled_cups = start_list\n",
    "    for _ in range(turns):\n",
    "        shuffled_cups = shuffle_cups(shuffled_cups)\n",
    "    if shuffled_cups[guess] == 1:\n",
    "        print('You Win!')\n",
    "    else:\n",
    "        print(f'Wrong!\\n{shuffled_cups}')       "
   ]
  },
  {
   "cell_type": "code",
   "execution_count": 49,
   "id": "2e4b8a42",
   "metadata": {},
   "outputs": [
    {
     "name": "stdout",
     "output_type": "stream",
     "text": [
      "Where is the ball? 0,1, or 22\n",
      "Wrong!\n",
      "[0, 1, 0]\n"
     ]
    }
   ],
   "source": [
    "guess = player_guess()\n",
    "\n",
    "cups_game(cups_list,3,guess)"
   ]
  },
  {
   "cell_type": "code",
   "execution_count": 50,
   "id": "7c9f9d62",
   "metadata": {},
   "outputs": [
    {
     "name": "stdout",
     "output_type": "stream",
     "text": [
      "Where is the ball? 0,1, or 21\n",
      "You Win!\n"
     ]
    }
   ],
   "source": [
    "guess = player_guess()\n",
    "\n",
    "cups_game(cups_list,3,guess)"
   ]
  },
  {
   "cell_type": "code",
   "execution_count": 51,
   "id": "9facfb5a",
   "metadata": {},
   "outputs": [],
   "source": [
    "def myfunc(a,b):\n",
    "    # returns 5% of a+b\n",
    "    return sum((a,b))*0.05"
   ]
  },
  {
   "cell_type": "code",
   "execution_count": 52,
   "id": "37ad7815",
   "metadata": {},
   "outputs": [
    {
     "data": {
      "text/plain": [
       "5.0"
      ]
     },
     "execution_count": 52,
     "metadata": {},
     "output_type": "execute_result"
    }
   ],
   "source": [
    "myfunc(40,60)"
   ]
  },
  {
   "cell_type": "code",
   "execution_count": 57,
   "id": "acba1bd4",
   "metadata": {},
   "outputs": [],
   "source": [
    "def myfunc(*args):\n",
    "    print(args)\n",
    "    return sum(args)*0.05"
   ]
  },
  {
   "cell_type": "code",
   "execution_count": 58,
   "id": "9b9bb9a6",
   "metadata": {},
   "outputs": [
    {
     "name": "stdout",
     "output_type": "stream",
     "text": [
      "(40, 60)\n"
     ]
    },
    {
     "data": {
      "text/plain": [
       "5.0"
      ]
     },
     "execution_count": 58,
     "metadata": {},
     "output_type": "execute_result"
    }
   ],
   "source": [
    "myfunc(40,60)"
   ]
  },
  {
   "cell_type": "code",
   "execution_count": 59,
   "id": "09d680b0",
   "metadata": {},
   "outputs": [
    {
     "name": "stdout",
     "output_type": "stream",
     "text": [
      "(40, 60, 110, 100, 3)\n"
     ]
    },
    {
     "data": {
      "text/plain": [
       "15.65"
      ]
     },
     "execution_count": 59,
     "metadata": {},
     "output_type": "execute_result"
    }
   ],
   "source": [
    "myfunc(40,60,110,100,3)"
   ]
  },
  {
   "cell_type": "code",
   "execution_count": 60,
   "id": "efdf0784",
   "metadata": {},
   "outputs": [],
   "source": [
    "def myfunc(**kwargs):\n",
    "    if 'fruit' in kwargs:\n",
    "        print(kwargs['fruit'])\n",
    "    else:\n",
    "        print('No fruit')"
   ]
  },
  {
   "cell_type": "code",
   "execution_count": 61,
   "id": "dde997f6",
   "metadata": {},
   "outputs": [
    {
     "name": "stdout",
     "output_type": "stream",
     "text": [
      "apple\n"
     ]
    }
   ],
   "source": [
    "myfunc(fruit='apple',bread='baguette')"
   ]
  },
  {
   "cell_type": "code",
   "execution_count": 62,
   "id": "3e324839",
   "metadata": {},
   "outputs": [
    {
     "name": "stdout",
     "output_type": "stream",
     "text": [
      "No fruit\n"
     ]
    }
   ],
   "source": [
    "myfunc(bread='baguette',veg='carrot')"
   ]
  },
  {
   "cell_type": "code",
   "execution_count": 65,
   "id": "fc048423",
   "metadata": {},
   "outputs": [],
   "source": [
    "def myfunc(*args,**kwargs):\n",
    "    print('I would like {} {}'.format(args[0],kwargs['food']))"
   ]
  },
  {
   "cell_type": "code",
   "execution_count": 66,
   "id": "be39b534",
   "metadata": {},
   "outputs": [
    {
     "name": "stdout",
     "output_type": "stream",
     "text": [
      "I would like 10 eggs\n"
     ]
    }
   ],
   "source": [
    "myfunc(10,2,30,fruit = 'orange', food = 'eggs', animal = 'dog')"
   ]
  },
  {
   "cell_type": "code",
   "execution_count": 70,
   "id": "e9b83eb2",
   "metadata": {},
   "outputs": [],
   "source": [
    "def myfunc(string):\n",
    "    updated_string = ''\n",
    "    for n in range(len(string)):\n",
    "        if n%2 == 0:\n",
    "            updated_string += string[n].upper()\n",
    "        else:\n",
    "            updated_string += string[n]\n",
    "    return updated_string"
   ]
  },
  {
   "cell_type": "code",
   "execution_count": 71,
   "id": "a5bd0b47",
   "metadata": {},
   "outputs": [
    {
     "data": {
      "text/plain": [
       "'AnThRoPoMoRpHiSm'"
      ]
     },
     "execution_count": 71,
     "metadata": {},
     "output_type": "execute_result"
    }
   ],
   "source": [
    "myfunc('anthropomorphism')"
   ]
  },
  {
   "cell_type": "code",
   "execution_count": 1,
   "id": "3a566fdc",
   "metadata": {},
   "outputs": [],
   "source": [
    "def square(num):\n",
    "    return num**2"
   ]
  },
  {
   "cell_type": "code",
   "execution_count": 2,
   "id": "19a74ef0",
   "metadata": {},
   "outputs": [],
   "source": [
    "my_nums = [1,2,3,4,5]"
   ]
  },
  {
   "cell_type": "code",
   "execution_count": 3,
   "id": "48b49cef",
   "metadata": {},
   "outputs": [
    {
     "name": "stdout",
     "output_type": "stream",
     "text": [
      "1\n",
      "4\n",
      "9\n",
      "16\n",
      "25\n"
     ]
    }
   ],
   "source": [
    "for item in map(square,my_nums):\n",
    "    print(item)"
   ]
  },
  {
   "cell_type": "code",
   "execution_count": 4,
   "id": "87a922c4",
   "metadata": {},
   "outputs": [],
   "source": [
    "def splicer(mystring):\n",
    "    if len(mystring)%2 == 0:\n",
    "        return 'even'\n",
    "    else:\n",
    "        return mystring[0]"
   ]
  },
  {
   "cell_type": "code",
   "execution_count": 5,
   "id": "dbf3a49b",
   "metadata": {},
   "outputs": [
    {
     "data": {
      "text/plain": [
       "['even', 'E', 'S']"
      ]
     },
     "execution_count": 5,
     "metadata": {},
     "output_type": "execute_result"
    }
   ],
   "source": [
    "names = ['Andy','Eve', 'Sally']\n",
    "list(map(splicer,names))"
   ]
  },
  {
   "cell_type": "code",
   "execution_count": 6,
   "id": "30ad316b",
   "metadata": {},
   "outputs": [],
   "source": [
    "def check_even(num):\n",
    "    return num%2 == 0"
   ]
  },
  {
   "cell_type": "code",
   "execution_count": 8,
   "id": "11546042",
   "metadata": {},
   "outputs": [
    {
     "data": {
      "text/plain": [
       "[2, 4, 6]"
      ]
     },
     "execution_count": 8,
     "metadata": {},
     "output_type": "execute_result"
    }
   ],
   "source": [
    "mynums = [1,2,3,4,5,6]\n",
    "list(filter(check_even,mynums))"
   ]
  },
  {
   "cell_type": "code",
   "execution_count": 10,
   "id": "602eecc4",
   "metadata": {},
   "outputs": [
    {
     "data": {
      "text/plain": [
       "<function __main__.<lambda>(x)>"
      ]
     },
     "execution_count": 10,
     "metadata": {},
     "output_type": "execute_result"
    }
   ],
   "source": [
    "lambda x: x**2"
   ]
  },
  {
   "cell_type": "code",
   "execution_count": 12,
   "id": "b524e4e3",
   "metadata": {},
   "outputs": [
    {
     "data": {
      "text/plain": [
       "[1, 4, 9]"
      ]
     },
     "execution_count": 12,
     "metadata": {},
     "output_type": "execute_result"
    }
   ],
   "source": [
    "list(map(lambda x:x**2,[1,2,3]))"
   ]
  },
  {
   "cell_type": "code",
   "execution_count": 13,
   "id": "b0e963cc",
   "metadata": {},
   "outputs": [
    {
     "data": {
      "text/plain": [
       "[2, 4, 6]"
      ]
     },
     "execution_count": 13,
     "metadata": {},
     "output_type": "execute_result"
    }
   ],
   "source": [
    "list(filter(lambda x: x%2==0 , [1,2,3,4,5,6]))"
   ]
  },
  {
   "cell_type": "code",
   "execution_count": 14,
   "id": "7e5d4c80",
   "metadata": {},
   "outputs": [
    {
     "data": {
      "text/plain": [
       "['ydnA', 'evE', 'yllaS']"
      ]
     },
     "execution_count": 14,
     "metadata": {},
     "output_type": "execute_result"
    }
   ],
   "source": [
    "list(map(lambda x: x[::-1],names))"
   ]
  },
  {
   "cell_type": "code",
   "execution_count": 15,
   "id": "accbfa74",
   "metadata": {},
   "outputs": [],
   "source": [
    "x = 25\n",
    "def printer():\n",
    "    x = 50\n",
    "    return x"
   ]
  },
  {
   "cell_type": "code",
   "execution_count": 16,
   "id": "93667b4b",
   "metadata": {},
   "outputs": [
    {
     "name": "stdout",
     "output_type": "stream",
     "text": [
      "25\n"
     ]
    }
   ],
   "source": [
    "print(x)"
   ]
  },
  {
   "cell_type": "code",
   "execution_count": 17,
   "id": "369426a5",
   "metadata": {},
   "outputs": [
    {
     "name": "stdout",
     "output_type": "stream",
     "text": [
      "50\n"
     ]
    }
   ],
   "source": [
    "print(printer())"
   ]
  },
  {
   "cell_type": "code",
   "execution_count": 19,
   "id": "f34f8025",
   "metadata": {},
   "outputs": [],
   "source": [
    "x = 50\n",
    "\n",
    "def func():\n",
    "    global x\n",
    "    print(f'X is {x}')\n",
    "    \n",
    "    #local reassignment of global variable\n",
    "    x = 'new value'\n",
    "    print(f'Locally reassigned X is {x}')"
   ]
  },
  {
   "cell_type": "code",
   "execution_count": 21,
   "id": "53ff63f5",
   "metadata": {},
   "outputs": [
    {
     "name": "stdout",
     "output_type": "stream",
     "text": [
      "X is 50\n",
      "Locally reassigned X is new value\n"
     ]
    }
   ],
   "source": [
    "func()"
   ]
  },
  {
   "cell_type": "code",
   "execution_count": null,
   "id": "5795c286",
   "metadata": {},
   "outputs": [],
   "source": []
  }
 ],
 "metadata": {
  "kernelspec": {
   "display_name": "Python 3 (ipykernel)",
   "language": "python",
   "name": "python3"
  },
  "language_info": {
   "codemirror_mode": {
    "name": "ipython",
    "version": 3
   },
   "file_extension": ".py",
   "mimetype": "text/x-python",
   "name": "python",
   "nbconvert_exporter": "python",
   "pygments_lexer": "ipython3",
   "version": "3.10.9"
  }
 },
 "nbformat": 4,
 "nbformat_minor": 5
}
