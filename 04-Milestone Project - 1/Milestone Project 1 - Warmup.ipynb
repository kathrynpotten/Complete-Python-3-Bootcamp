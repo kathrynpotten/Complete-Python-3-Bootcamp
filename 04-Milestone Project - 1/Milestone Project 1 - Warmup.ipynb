{
 "cells": [
  {
   "cell_type": "code",
   "execution_count": 1,
   "id": "2fefa46f",
   "metadata": {},
   "outputs": [
    {
     "name": "stdout",
     "output_type": "stream",
     "text": [
      "[1, 2, 3]\n",
      "[4, 5, 6]\n",
      "[7, 8, 9]\n"
     ]
    }
   ],
   "source": [
    "print([1,2,3])\n",
    "print([4,5,6])\n",
    "print([7,8,9])"
   ]
  },
  {
   "cell_type": "code",
   "execution_count": 25,
   "id": "03b8fbc5",
   "metadata": {},
   "outputs": [],
   "source": [
    "def display(row1,row2,row3):\n",
    "    print(row1)\n",
    "    print('__|_|__')\n",
    "    print(row2)\n",
    "    print('__|_|__')\n",
    "    print(row3)"
   ]
  },
  {
   "cell_type": "code",
   "execution_count": 3,
   "id": "f5f5d76d",
   "metadata": {},
   "outputs": [
    {
     "name": "stdout",
     "output_type": "stream",
     "text": [
      "[' ', ' ', ' ']\n",
      "[' ', ' ', ' ']\n",
      "[' ', ' ', ' ']\n"
     ]
    }
   ],
   "source": [
    "row1 = row2 = row3 = [' ', ' ',' ']\n",
    "display(row1,row2,row3)"
   ]
  },
  {
   "cell_type": "code",
   "execution_count": 4,
   "id": "615e0ace",
   "metadata": {},
   "outputs": [
    {
     "name": "stdout",
     "output_type": "stream",
     "text": [
      "[' ', 'X', ' ']\n",
      "[' ', 'X', ' ']\n",
      "[' ', 'X', ' ']\n"
     ]
    }
   ],
   "source": [
    "row2[1] = 'X'\n",
    "display(row1,row2,row3)"
   ]
  },
  {
   "cell_type": "code",
   "execution_count": 26,
   "id": "388d5863",
   "metadata": {},
   "outputs": [
    {
     "name": "stdout",
     "output_type": "stream",
     "text": [
      "  | |  \n",
      "__|_|__\n",
      "  | |  \n",
      "__|_|__\n",
      "  | |  \n"
     ]
    }
   ],
   "source": [
    "row1 = row2 =  '  | |  '\n",
    "row3 = '  | |  '\n",
    "display(row1, row2, row3)"
   ]
  },
  {
   "cell_type": "code",
   "execution_count": 27,
   "id": "7e60f24e",
   "metadata": {},
   "outputs": [
    {
     "name": "stdout",
     "output_type": "stream",
     "text": [
      "Choose an index:2\n"
     ]
    }
   ],
   "source": [
    "index = int(input('Choose an index:'))"
   ]
  },
  {
   "cell_type": "code",
   "execution_count": 30,
   "id": "9420dd1b",
   "metadata": {},
   "outputs": [],
   "source": [
    "row1 = [' ',' ',' ']\n",
    "row1[index] = 'X'"
   ]
  },
  {
   "cell_type": "code",
   "execution_count": 31,
   "id": "7308e335",
   "metadata": {},
   "outputs": [
    {
     "data": {
      "text/plain": [
       "[' ', ' ', 'X']"
      ]
     },
     "execution_count": 31,
     "metadata": {},
     "output_type": "execute_result"
    }
   ],
   "source": [
    "row1"
   ]
  },
  {
   "cell_type": "code",
   "execution_count": 45,
   "id": "06df7f23",
   "metadata": {},
   "outputs": [],
   "source": [
    "def user_choice(): \n",
    "    choice = 'default'\n",
    "    within_range = False\n",
    "    while choice.isdigit() == False or within_range == False:\n",
    "        choice = input('Please enter a number (0-10): ')\n",
    "        if choice.isdigit() == False:\n",
    "            print('Not a digit')\n",
    "        if choice.isdigit():  \n",
    "            if int(choice) in range(0,11):\n",
    "                within_range = True\n",
    "            else:\n",
    "                print('Number outside range')\n",
    "    return int(choice)"
   ]
  },
  {
   "cell_type": "code",
   "execution_count": 46,
   "id": "3bd8424e",
   "metadata": {},
   "outputs": [
    {
     "name": "stdout",
     "output_type": "stream",
     "text": [
      "Please enter a number (0-10): two\n",
      "Not a digit\n",
      "Please enter a number (0-10): 100\n",
      "Number outside range\n",
      "Please enter a number (0-10): 5\n"
     ]
    },
    {
     "data": {
      "text/plain": [
       "5"
      ]
     },
     "execution_count": 46,
     "metadata": {},
     "output_type": "execute_result"
    }
   ],
   "source": [
    "user_choice()"
   ]
  },
  {
   "cell_type": "code",
   "execution_count": 67,
   "id": "39818629",
   "metadata": {},
   "outputs": [],
   "source": [
    "def list_game():\n",
    "    display = ['','' ,'','' ,'','']\n",
    "    choice_index = 'init'\n",
    "    acceptable_range = range(len(display))\n",
    "    within_range = False\n",
    "    keep_going = 'Yes'\n",
    "    keep_going = input('Do you wish to keep playing? (Yes/No): ')\n",
    "    while keep_going == 'Yes':\n",
    "        print(f'Current list: {display}')\n",
    "        while choice_index.isdigit() == False or within_range == False:\n",
    "            choice_index = input('Select an index (0,1,2,3,4,5): ')\n",
    "            if choice_index.isdigit() == False:\n",
    "                print('Index not a number')\n",
    "            if choice_index.isdigit():\n",
    "                if int(choice_index) in acceptable_range:\n",
    "                    choice_input = input('Select an input: ')\n",
    "                    display[int(choice_index)] = choice_input\n",
    "                    print(f'New list: {display}')\n",
    "                    keep_going = input('Do you wish to keep playing? (Yes/No): ')\n",
    "                    if keep_going == 'No':\n",
    "                        break\n",
    "                else:\n",
    "                    print('Index out of range')\n",
    "    print(f'Final list: {display}')\n",
    "    "
   ]
  },
  {
   "cell_type": "code",
   "execution_count": 63,
   "id": "0f82a141",
   "metadata": {},
   "outputs": [
    {
     "name": "stdout",
     "output_type": "stream",
     "text": [
      "Do you wish to keep playing? (Yes/No): No\n",
      "Final list: ['', '', '', '', '', '']\n"
     ]
    }
   ],
   "source": [
    "list_game()"
   ]
  },
  {
   "cell_type": "code",
   "execution_count": 66,
   "id": "bc853af2",
   "metadata": {},
   "outputs": [
    {
     "name": "stdout",
     "output_type": "stream",
     "text": [
      "Do you wish to keep playing? (Yes/No): Yes\n",
      "Current list: ['', '', '', '', '', '']\n",
      "Select an index: five\n",
      "Index not a number\n",
      "Select an index: 7\n",
      "Index out of range\n",
      "Select an index: 3\n",
      "Select an input: Hello World\n",
      "New list: ['', '', '', 'Hello World', '', '']\n",
      "Do you wish to keep playing? (Yes/No): No\n",
      "Final list: ['', '', '', 'Hello World', '', '']\n"
     ]
    }
   ],
   "source": [
    "list_game()"
   ]
  },
  {
   "cell_type": "code",
   "execution_count": 95,
   "id": "1160902e",
   "metadata": {},
   "outputs": [],
   "source": [
    "def display_game(game_list):\n",
    "    print(f'The current list is: {game_list}')\n",
    "    \n",
    "def index_choice(game_list):\n",
    "    choice = 'init'\n",
    "    within_range = False\n",
    "    acceptable_range = range(len(game_list))\n",
    "    while choice.isdigit() == False or within_range == False:\n",
    "        choice = input('Select an index (0,1,2,3,4,5): ')\n",
    "        if choice.isdigit() == False:\n",
    "            print('Index not a number')\n",
    "        if choice.isdigit():\n",
    "            if int(choice) in acceptable_range:\n",
    "                within_range == True\n",
    "                break\n",
    "            else:\n",
    "                print('Index out of range')\n",
    "    return int(choice)\n",
    "\n",
    "\n",
    "def input_choice(game_list,index):\n",
    "    choice_input = input('Select an input: ')\n",
    "    game_list[int(index)] = choice_input\n",
    "    return game_list \n",
    "\n",
    "def keep_going():\n",
    "    keep_going = 'init'\n",
    "    while keep_going not in ['Yes','No']:\n",
    "        keep_going = input('Do you wish to keep playing? (Yes/No): ')\n",
    "        if keep_going not in ['Yes','No']:\n",
    "            print('Answer not understood')\n",
    "        else:\n",
    "            if keep_going == 'No':\n",
    "                return False\n",
    "            else: \n",
    "                return True            \n"
   ]
  },
  {
   "cell_type": "code",
   "execution_count": 96,
   "id": "0d00089b",
   "metadata": {},
   "outputs": [],
   "source": [
    "def game(game_list):\n",
    "    playing = True\n",
    "    while playing:\n",
    "        display_game(game_list)\n",
    "        index = index_choice(game_list)\n",
    "        choice = input_choice(game_list,index)\n",
    "        print(f'New list is {game_list}')\n",
    "        playing = keep_going()\n",
    "    \n",
    "    "
   ]
  },
  {
   "cell_type": "code",
   "execution_count": 97,
   "id": "01abc37a",
   "metadata": {},
   "outputs": [
    {
     "name": "stdout",
     "output_type": "stream",
     "text": [
      "The current list is: [1, 2, 3, 4, 5]\n",
      "Select an index (0,1,2,3,4,5): 3\n",
      "Select an input: hello\n",
      "New list is [1, 2, 3, 'hello', 5]\n",
      "Do you wish to keep playing? (Yes/No): No\n"
     ]
    }
   ],
   "source": [
    "game([1,2,3,4,5])"
   ]
  },
  {
   "cell_type": "code",
   "execution_count": null,
   "id": "1dd1e936",
   "metadata": {},
   "outputs": [],
   "source": []
  }
 ],
 "metadata": {
  "kernelspec": {
   "display_name": "Python 3 (ipykernel)",
   "language": "python",
   "name": "python3"
  },
  "language_info": {
   "codemirror_mode": {
    "name": "ipython",
    "version": 3
   },
   "file_extension": ".py",
   "mimetype": "text/x-python",
   "name": "python",
   "nbconvert_exporter": "python",
   "pygments_lexer": "ipython3",
   "version": "3.10.9"
  }
 },
 "nbformat": 4,
 "nbformat_minor": 5
}
