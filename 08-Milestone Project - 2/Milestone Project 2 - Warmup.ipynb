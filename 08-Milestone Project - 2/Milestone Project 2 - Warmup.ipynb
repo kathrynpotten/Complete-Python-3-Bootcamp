{
 "cells": [
  {
   "cell_type": "code",
   "execution_count": 33,
   "id": "631ba9be",
   "metadata": {},
   "outputs": [],
   "source": [
    "import random"
   ]
  },
  {
   "cell_type": "code",
   "execution_count": 32,
   "id": "9309b065",
   "metadata": {},
   "outputs": [],
   "source": [
    "suits = ('Hearts', 'Diamonds', 'Spades', 'Clubs')\n",
    "ranks = ('Two', 'Three', 'Four', 'Five', 'Six', 'Seven', 'Eight', 'Nine', 'Ten', 'Jack', 'Queen', 'King', 'Ace')\n",
    "values = {'Two': 2, 'Three': 3, 'Four': 4, 'Five': 5, 'Six': 6, 'Seven': 7, 'Eight': 8,\n",
    "          'Nine': 9, 'Ten': 10, 'Jack': 11, 'Queen': 12, 'King': 13, 'Ace': 14}"
   ]
  },
  {
   "cell_type": "code",
   "execution_count": 31,
   "id": "02121969",
   "metadata": {},
   "outputs": [],
   "source": [
    "class Card:\n",
    "    \n",
    "    # suit, rank, value\n",
    "    \n",
    "    def __init__(self, suit, rank):\n",
    "        self.suit = suit\n",
    "        self.rank = rank\n",
    "        self.value = values[rank]\n",
    "        \n",
    "    def __str__(self):\n",
    "        return self.rank + \" of \" + self.suit\n",
    "    \n",
    "    def __eq__(self, other):\n",
    "        return self.value == other.value\n",
    "    \n",
    "    def __lt__(self, other):\n",
    "        return self.value < other.value\n",
    "    "
   ]
  },
  {
   "cell_type": "code",
   "execution_count": 26,
   "id": "38dbdc96",
   "metadata": {},
   "outputs": [],
   "source": [
    "two_hearts = Card(\"Hearts\", \"Two\")"
   ]
  },
  {
   "cell_type": "code",
   "execution_count": 12,
   "id": "83259cdf",
   "metadata": {},
   "outputs": [
    {
     "name": "stdout",
     "output_type": "stream",
     "text": [
      "Two of Hearts\n"
     ]
    }
   ],
   "source": [
    "print(two_hearts)"
   ]
  },
  {
   "cell_type": "code",
   "execution_count": 4,
   "id": "bd1e58c6",
   "metadata": {},
   "outputs": [
    {
     "data": {
      "text/plain": [
       "'Hearts'"
      ]
     },
     "execution_count": 4,
     "metadata": {},
     "output_type": "execute_result"
    }
   ],
   "source": [
    "two_hearts.suit"
   ]
  },
  {
   "cell_type": "code",
   "execution_count": 27,
   "id": "df21c795",
   "metadata": {},
   "outputs": [],
   "source": [
    "three_clubs = Card(\"Clubs\", \"Three\")"
   ]
  },
  {
   "cell_type": "code",
   "execution_count": 10,
   "id": "4bf31628",
   "metadata": {},
   "outputs": [
    {
     "data": {
      "text/plain": [
       "3"
      ]
     },
     "execution_count": 10,
     "metadata": {},
     "output_type": "execute_result"
    }
   ],
   "source": [
    "three_clubs.value"
   ]
  },
  {
   "cell_type": "code",
   "execution_count": 28,
   "id": "3e003ef6",
   "metadata": {},
   "outputs": [
    {
     "data": {
      "text/plain": [
       "True"
      ]
     },
     "execution_count": 28,
     "metadata": {},
     "output_type": "execute_result"
    }
   ],
   "source": [
    "two_hearts.value < three_clubs.value"
   ]
  },
  {
   "cell_type": "code",
   "execution_count": 29,
   "id": "e938d92d",
   "metadata": {},
   "outputs": [
    {
     "data": {
      "text/plain": [
       "False"
      ]
     },
     "execution_count": 29,
     "metadata": {},
     "output_type": "execute_result"
    }
   ],
   "source": [
    "two_hearts == three_clubs"
   ]
  },
  {
   "cell_type": "code",
   "execution_count": 30,
   "id": "dfb347f4",
   "metadata": {},
   "outputs": [
    {
     "data": {
      "text/plain": [
       "True"
      ]
     },
     "execution_count": 30,
     "metadata": {},
     "output_type": "execute_result"
    }
   ],
   "source": [
    "two_hearts < three_clubs"
   ]
  },
  {
   "cell_type": "code",
   "execution_count": 120,
   "id": "aafebc13",
   "metadata": {},
   "outputs": [],
   "source": [
    "class Deck:\n",
    "    \n",
    "    def __init__(self):\n",
    "        self.all_cards = []\n",
    "        for suit in suits:\n",
    "            for rank in ranks:\n",
    "                created_card = Card(suit, rank)\n",
    "                self.all_cards.append(created_card)\n",
    "                \n",
    "    def __str__(self):\n",
    "        return '\\n'.join(str(card) for card in self.all_cards)\n",
    "    \n",
    "    def __len__(self):\n",
    "        return len(self.all_cards)\n",
    "    \n",
    "    def shuffle(self):\n",
    "        random.shuffle(self.all_cards)\n",
    "        \n",
    "    def deal_one(self):\n",
    "        return self.all_cards.pop()\n",
    "    \n",
    "    def split(self):\n",
    "        number_of_cards = len(self.all_cards)\n",
    "        if number_of_cards%2 == 0:\n",
    "            half_deck = int(number_of_cards/2)\n",
    "        else:\n",
    "            half_deck = int((number_of_cards+1)/2)\n",
    "        top_half = self.all_cards[:half_deck]\n",
    "        bottom_half = self.all_cards[half_deck:]\n",
    "        return top_half, bottom_half\n",
    "    \n",
    "    "
   ]
  },
  {
   "cell_type": "code",
   "execution_count": 139,
   "id": "14de1e13",
   "metadata": {},
   "outputs": [],
   "source": [
    "new_deck = Deck()"
   ]
  },
  {
   "cell_type": "code",
   "execution_count": 140,
   "id": "0a91a856",
   "metadata": {},
   "outputs": [],
   "source": [
    "first_card = new_deck.all_cards[0]\n",
    "last_card = new_deck.all_cards[-1]"
   ]
  },
  {
   "cell_type": "code",
   "execution_count": 141,
   "id": "e766804c",
   "metadata": {},
   "outputs": [
    {
     "name": "stdout",
     "output_type": "stream",
     "text": [
      "Two of Hearts\n",
      "Three of Hearts\n",
      "Four of Hearts\n",
      "Five of Hearts\n",
      "Six of Hearts\n",
      "Seven of Hearts\n",
      "Eight of Hearts\n",
      "Nine of Hearts\n",
      "Ten of Hearts\n",
      "Jack of Hearts\n",
      "Queen of Hearts\n",
      "King of Hearts\n",
      "Ace of Hearts\n",
      "Two of Diamonds\n",
      "Three of Diamonds\n",
      "Four of Diamonds\n",
      "Five of Diamonds\n",
      "Six of Diamonds\n",
      "Seven of Diamonds\n",
      "Eight of Diamonds\n",
      "Nine of Diamonds\n",
      "Ten of Diamonds\n",
      "Jack of Diamonds\n",
      "Queen of Diamonds\n",
      "King of Diamonds\n",
      "Ace of Diamonds\n",
      "Two of Spades\n",
      "Three of Spades\n",
      "Four of Spades\n",
      "Five of Spades\n",
      "Six of Spades\n",
      "Seven of Spades\n",
      "Eight of Spades\n",
      "Nine of Spades\n",
      "Ten of Spades\n",
      "Jack of Spades\n",
      "Queen of Spades\n",
      "King of Spades\n",
      "Ace of Spades\n",
      "Two of Clubs\n",
      "Three of Clubs\n",
      "Four of Clubs\n",
      "Five of Clubs\n",
      "Six of Clubs\n",
      "Seven of Clubs\n",
      "Eight of Clubs\n",
      "Nine of Clubs\n",
      "Ten of Clubs\n",
      "Jack of Clubs\n",
      "Queen of Clubs\n",
      "King of Clubs\n",
      "Ace of Clubs\n"
     ]
    }
   ],
   "source": [
    "print(new_deck)"
   ]
  },
  {
   "cell_type": "code",
   "execution_count": 142,
   "id": "b5cdea6b",
   "metadata": {},
   "outputs": [],
   "source": [
    "new_deck.shuffle()"
   ]
  },
  {
   "cell_type": "code",
   "execution_count": 143,
   "id": "85ef3696",
   "metadata": {},
   "outputs": [
    {
     "name": "stdout",
     "output_type": "stream",
     "text": [
      "Seven of Hearts\n",
      "Ace of Diamonds\n",
      "King of Diamonds\n",
      "Six of Diamonds\n",
      "Eight of Diamonds\n",
      "Eight of Clubs\n",
      "King of Spades\n",
      "Queen of Diamonds\n",
      "Four of Diamonds\n",
      "Jack of Diamonds\n",
      "Nine of Hearts\n",
      "Four of Spades\n",
      "Five of Diamonds\n",
      "Seven of Clubs\n",
      "Queen of Hearts\n",
      "King of Clubs\n",
      "Four of Clubs\n",
      "Ten of Clubs\n",
      "Five of Spades\n",
      "Two of Diamonds\n",
      "Six of Spades\n",
      "Nine of Spades\n",
      "Ace of Spades\n",
      "Five of Clubs\n",
      "Eight of Spades\n",
      "Seven of Diamonds\n",
      "Ten of Hearts\n",
      "Ace of Clubs\n",
      "Jack of Clubs\n",
      "Nine of Clubs\n",
      "Ace of Hearts\n",
      "Five of Hearts\n",
      "Jack of Hearts\n",
      "Two of Spades\n",
      "Seven of Spades\n",
      "Three of Hearts\n",
      "King of Hearts\n",
      "Two of Clubs\n",
      "Three of Clubs\n",
      "Three of Spades\n",
      "Three of Diamonds\n",
      "Six of Hearts\n",
      "Eight of Hearts\n",
      "Ten of Spades\n",
      "Queen of Clubs\n",
      "Ten of Diamonds\n",
      "Four of Hearts\n",
      "Six of Clubs\n",
      "Jack of Spades\n",
      "Nine of Diamonds\n",
      "Two of Hearts\n",
      "Queen of Spades\n"
     ]
    }
   ],
   "source": [
    "print(new_deck)"
   ]
  },
  {
   "cell_type": "code",
   "execution_count": 144,
   "id": "f3b6ac27",
   "metadata": {},
   "outputs": [],
   "source": [
    "top, bottom = new_deck.split()"
   ]
  },
  {
   "cell_type": "code",
   "execution_count": 145,
   "id": "c0416b20",
   "metadata": {},
   "outputs": [
    {
     "name": "stdout",
     "output_type": "stream",
     "text": [
      "['Seven of Hearts', 'Ace of Diamonds', 'King of Diamonds', 'Six of Diamonds', 'Eight of Diamonds', 'Eight of Clubs', 'King of Spades', 'Queen of Diamonds', 'Four of Diamonds', 'Jack of Diamonds', 'Nine of Hearts', 'Four of Spades', 'Five of Diamonds', 'Seven of Clubs', 'Queen of Hearts', 'King of Clubs', 'Four of Clubs', 'Ten of Clubs', 'Five of Spades', 'Two of Diamonds', 'Six of Spades', 'Nine of Spades', 'Ace of Spades', 'Five of Clubs', 'Eight of Spades', 'Seven of Diamonds']\n",
      "26\n"
     ]
    }
   ],
   "source": [
    "print([str(card) for card in top])\n",
    "print(len(top))"
   ]
  },
  {
   "cell_type": "code",
   "execution_count": 146,
   "id": "712e3a15",
   "metadata": {},
   "outputs": [
    {
     "name": "stdout",
     "output_type": "stream",
     "text": [
      "['Ten of Hearts', 'Ace of Clubs', 'Jack of Clubs', 'Nine of Clubs', 'Ace of Hearts', 'Five of Hearts', 'Jack of Hearts', 'Two of Spades', 'Seven of Spades', 'Three of Hearts', 'King of Hearts', 'Two of Clubs', 'Three of Clubs', 'Three of Spades', 'Three of Diamonds', 'Six of Hearts', 'Eight of Hearts', 'Ten of Spades', 'Queen of Clubs', 'Ten of Diamonds', 'Four of Hearts', 'Six of Clubs', 'Jack of Spades', 'Nine of Diamonds', 'Two of Hearts', 'Queen of Spades']\n",
      "26\n"
     ]
    }
   ],
   "source": [
    "print([str(card) for card in bottom])\n",
    "print(len(bottom))"
   ]
  },
  {
   "cell_type": "code",
   "execution_count": 132,
   "id": "b3311760",
   "metadata": {},
   "outputs": [],
   "source": [
    "new_deck = Deck()"
   ]
  },
  {
   "cell_type": "code",
   "execution_count": 133,
   "id": "1323069c",
   "metadata": {},
   "outputs": [],
   "source": [
    "new_deck.shuffle()"
   ]
  },
  {
   "cell_type": "code",
   "execution_count": 134,
   "id": "727f64d3",
   "metadata": {},
   "outputs": [
    {
     "name": "stdout",
     "output_type": "stream",
     "text": [
      "Four of Clubs\n"
     ]
    }
   ],
   "source": [
    "print(new_deck.deal_one())"
   ]
  },
  {
   "cell_type": "code",
   "execution_count": 135,
   "id": "ab4c4627",
   "metadata": {},
   "outputs": [
    {
     "data": {
      "text/plain": [
       "51"
      ]
     },
     "execution_count": 135,
     "metadata": {},
     "output_type": "execute_result"
    }
   ],
   "source": [
    "len(new_deck)"
   ]
  },
  {
   "cell_type": "code",
   "execution_count": 136,
   "id": "8d270896",
   "metadata": {},
   "outputs": [],
   "source": [
    "top, bottom = new_deck.split()"
   ]
  },
  {
   "cell_type": "code",
   "execution_count": 137,
   "id": "f5efb81a",
   "metadata": {},
   "outputs": [
    {
     "name": "stdout",
     "output_type": "stream",
     "text": [
      "['Jack of Spades', 'King of Clubs', 'Six of Hearts', 'Four of Spades', 'Seven of Hearts', 'Nine of Clubs', 'Nine of Spades', 'Two of Spades', 'Seven of Clubs', 'Five of Diamonds', 'Ace of Spades', 'Three of Diamonds', 'Ten of Clubs', 'Ace of Clubs', 'Jack of Clubs', 'Two of Diamonds', 'Six of Diamonds', 'Two of Hearts', 'Two of Clubs', 'Nine of Hearts', 'King of Spades', 'Queen of Clubs', 'Eight of Spades', 'Jack of Diamonds', 'Three of Clubs', 'Jack of Hearts']\n",
      "26\n"
     ]
    }
   ],
   "source": [
    "print([str(card) for card in top])\n",
    "print(len(top))"
   ]
  },
  {
   "cell_type": "code",
   "execution_count": 138,
   "id": "c90b3224",
   "metadata": {},
   "outputs": [
    {
     "name": "stdout",
     "output_type": "stream",
     "text": [
      "['King of Hearts', 'Ace of Diamonds', 'Ten of Spades', 'Six of Spades', 'Queen of Spades', 'King of Diamonds', 'Eight of Clubs', 'Eight of Diamonds', 'Three of Hearts', 'Ten of Hearts', 'Five of Spades', 'Queen of Hearts', 'Three of Spades', 'Seven of Diamonds', 'Queen of Diamonds', 'Seven of Spades', 'Nine of Diamonds', 'Five of Hearts', 'Four of Diamonds', 'Ace of Hearts', 'Six of Clubs', 'Eight of Hearts', 'Five of Clubs', 'Ten of Diamonds', 'Four of Hearts']\n",
      "25\n"
     ]
    }
   ],
   "source": [
    "print([str(card) for card in bottom])\n",
    "print(len(bottom))"
   ]
  },
  {
   "cell_type": "code",
   "execution_count": 189,
   "id": "9e093152",
   "metadata": {},
   "outputs": [],
   "source": [
    "class Player:\n",
    "\n",
    "    def __init__(self, name):\n",
    "        self.name = name\n",
    "        self.all_cards = []\n",
    "        \n",
    "    def __str__(self):\n",
    "        return f'Player {self.name} has {len(self.all_cards)} cards.'\n",
    "    \n",
    "    def __len__(self):\n",
    "        return len(self.all_cards)\n",
    "        \n",
    "    def play_one(self):\n",
    "        return self.all_cards.pop(0)\n",
    "    \n",
    "    def play_multiple(self, number):\n",
    "        played_cards = []\n",
    "        for _ in range(number):\n",
    "            played_cards.append(self.all_cards.pop(0))\n",
    "        return played_cards\n",
    "    \n",
    "    def add_cards(self, new_cards):\n",
    "        if type(new_cards) == type([]):\n",
    "            self.all_cards.extend(new_cards)\n",
    "        else:\n",
    "            self.all_cards.append(new_cards)"
   ]
  },
  {
   "cell_type": "code",
   "execution_count": 180,
   "id": "92c49d85",
   "metadata": {},
   "outputs": [],
   "source": [
    "new_player = Player(\"Jose\")"
   ]
  },
  {
   "cell_type": "code",
   "execution_count": 181,
   "id": "24694d6f",
   "metadata": {},
   "outputs": [
    {
     "name": "stdout",
     "output_type": "stream",
     "text": [
      "Player Jose has 0 cards.\n"
     ]
    }
   ],
   "source": [
    "print(new_player)"
   ]
  },
  {
   "cell_type": "code",
   "execution_count": 182,
   "id": "6ddc8bf3",
   "metadata": {},
   "outputs": [],
   "source": [
    "new_card = Card(\"Spades\", \"Six\")"
   ]
  },
  {
   "cell_type": "code",
   "execution_count": 183,
   "id": "62d27f2e",
   "metadata": {},
   "outputs": [],
   "source": [
    "new_player.add_cards(new_card)"
   ]
  },
  {
   "cell_type": "code",
   "execution_count": 184,
   "id": "b89a1a64",
   "metadata": {},
   "outputs": [
    {
     "name": "stdout",
     "output_type": "stream",
     "text": [
      "Player Jose has 1 cards.\n"
     ]
    }
   ],
   "source": [
    "print(new_player)"
   ]
  },
  {
   "cell_type": "code",
   "execution_count": 185,
   "id": "8f578420",
   "metadata": {},
   "outputs": [],
   "source": [
    "card = new_player.play_one()"
   ]
  },
  {
   "cell_type": "code",
   "execution_count": 186,
   "id": "4db5c901",
   "metadata": {},
   "outputs": [
    {
     "name": "stdout",
     "output_type": "stream",
     "text": [
      "<class '__main__.Card'>\n"
     ]
    }
   ],
   "source": [
    "print(type(card))"
   ]
  },
  {
   "cell_type": "code",
   "execution_count": 190,
   "id": "768a20e9",
   "metadata": {},
   "outputs": [],
   "source": [
    "player_one = Player(\"One\")\n",
    "player_two = Player(\"Two\")\n",
    "\n",
    "new_deck = Deck()\n",
    "new_deck.shuffle()\n",
    "first, second = new_deck.split()\n",
    "\n",
    "player_one.add_cards(first)\n",
    "player_two.add_cards(second)"
   ]
  },
  {
   "cell_type": "code",
   "execution_count": 191,
   "id": "de2ee150",
   "metadata": {},
   "outputs": [
    {
     "name": "stdout",
     "output_type": "stream",
     "text": [
      "Round 1\n",
      "Round 2\n",
      "Round 3\n",
      "Round 4\n",
      "Round 5\n",
      "Round 6\n",
      "Round 7\n",
      "Round 8\n",
      "Round 9\n",
      "Round 10\n",
      "Round 11\n",
      "Round 12\n",
      "Round 13\n",
      "Round 14\n",
      "Round 15\n",
      "Round 16\n",
      "Round 17\n",
      "Round 18\n",
      "Round 19\n",
      "Round 20\n",
      "Round 21\n",
      "Round 22\n",
      "Round 23\n",
      "Round 24\n",
      "Round 25\n",
      "Round 26\n",
      "Round 27\n",
      "Round 28\n",
      "Round 29\n",
      "Round 30\n",
      "Round 31\n",
      "Round 32\n",
      "Round 33\n",
      "Round 34\n",
      "Round 35\n",
      "Round 36\n",
      "Round 37\n",
      "Round 38\n",
      "Round 39\n",
      "Round 40\n",
      "Round 41\n",
      "Round 42\n",
      "Round 43\n",
      "Round 44\n",
      "Round 45\n",
      "War\n",
      "We are at war\n",
      "War\n",
      "We are at war\n",
      "War\n",
      "We are at war\n",
      "War\n",
      "We are at war\n",
      "War\n",
      "Player Two unable to declare war. Player One wins!\n"
     ]
    }
   ],
   "source": [
    "round_number = 0\n",
    "game_on = True\n",
    "\n",
    "while game_on:\n",
    "    \n",
    "    round_number += 1\n",
    "    print(f'Round {round_number}')\n",
    "    \n",
    "    if len(player_one.all_cards) == 0:\n",
    "        print('Player One is out of cards. Player Two wins!')\n",
    "        game_on = False\n",
    "        break\n",
    "    if len(player_two.all_cards) == 0:\n",
    "        print('Player Two is out of cards. Player One wins!')\n",
    "        game_on = False\n",
    "        break\n",
    "    \n",
    "    \n",
    "    \n",
    "    in_play = []\n",
    "    \n",
    "    player_one_play = player_one.play_one()\n",
    "    in_play.append(player_one_play)\n",
    "    \n",
    "    player_two_play = player_two.play_one()\n",
    "    in_play.append(player_two_play)\n",
    "\n",
    "    \n",
    "    at_war = True\n",
    "    \n",
    "    while at_war:\n",
    "        \n",
    "        if player_two_play > player_one_play:\n",
    "            player_two.add_cards(in_play)\n",
    "            at_war = False\n",
    "        elif player_one_play > player_two_play:\n",
    "            player_one.add_cards(in_play)\n",
    "            at_war = False\n",
    "        elif player_one_play == player_two_play:\n",
    "            print('War')\n",
    "            if len(player_one) < 5:\n",
    "                print('Player One unable to declare war. Player Two wins!')\n",
    "                game_on = False\n",
    "                break\n",
    "            elif len(player_two) < 5:      \n",
    "                print('Player Two unable to declare war. Player One wins!')\n",
    "                game_on = False\n",
    "                break\n",
    "            else:\n",
    "                print('We are at war')\n",
    "                in_play.extend(player_one.play_multiple(5))\n",
    "                in_play.extend(player_two.play_multiple(5))\n",
    "                      \n",
    "        "
   ]
  },
  {
   "cell_type": "code",
   "execution_count": 152,
   "id": "5c01f04a",
   "metadata": {},
   "outputs": [],
   "source": [
    "\n",
    "    \n"
   ]
  },
  {
   "cell_type": "code",
   "execution_count": null,
   "id": "90cac693",
   "metadata": {},
   "outputs": [],
   "source": []
  }
 ],
 "metadata": {
  "kernelspec": {
   "display_name": "Python 3 (ipykernel)",
   "language": "python",
   "name": "python3"
  },
  "language_info": {
   "codemirror_mode": {
    "name": "ipython",
    "version": 3
   },
   "file_extension": ".py",
   "mimetype": "text/x-python",
   "name": "python",
   "nbconvert_exporter": "python",
   "pygments_lexer": "ipython3",
   "version": "3.10.9"
  }
 },
 "nbformat": 4,
 "nbformat_minor": 5
}
